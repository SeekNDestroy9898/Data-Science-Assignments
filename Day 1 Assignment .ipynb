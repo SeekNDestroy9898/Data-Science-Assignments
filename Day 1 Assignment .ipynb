{
 "cells": [
  {
   "cell_type": "code",
   "execution_count": null,
   "metadata": {},
   "outputs": [],
   "source": [
    "Q.1 Given the following jumbled word, OBANWRI guess the correct English word.\n",
    "\n",
    "A. RANIBOW B. RAINBOW C. BOWRANI D. ROBWANI\n",
    "\n",
    "B.RAINBOW"
   ]
  },
  {
   "cell_type": "raw",
   "metadata": {},
   "source": [
    "Q.2  Write a program which prints “LETS UPGRADE”. (Please note that you have to\n",
    "print in ALL CAPS as given)"
   ]
  },
  {
   "cell_type": "code",
   "execution_count": 2,
   "metadata": {},
   "outputs": [
    {
     "name": "stdout",
     "output_type": "stream",
     "text": [
      "LETS UPGRAGE\n"
     ]
    }
   ],
   "source": [
    "print(\"LETS UPGRAGE\")"
   ]
  },
  {
   "cell_type": "raw",
   "metadata": {},
   "source": [
    "Q.3 Write a program that takes cost price and selling price as input and displays whether the transaction is a Profit or a Loss or Neither"
   ]
  },
  {
   "cell_type": "code",
   "execution_count": 3,
   "metadata": {},
   "outputs": [
    {
     "name": "stdout",
     "output_type": "stream",
     "text": [
      "98\n",
      "87\n",
      "Loss\n"
     ]
    }
   ],
   "source": [
    "cost=int(input())\n",
    "sell=int(input())\n",
    "if cost<sell:\n",
    "    print(\"Profit\")\n",
    "elif cost>sell:\n",
    "    print(\"Loss\")\n",
    "else:\n",
    "    print(\"Neither\")"
   ]
  },
  {
   "cell_type": "raw",
   "metadata": {},
   "source": [
    "Q.5Write a program that takes an amount in Indian Rupees as input. You need to find its equivalent in Euro and display it. Assume 1 Euro equals Rs. 80. Please note that you are expected to stick to the given input and output format as in sample test cases. Please don't add any extra lines such as 'Enter a number', etc. Your program should take only one number as input and display the output."
   ]
  },
  {
   "cell_type": "code",
   "execution_count": 4,
   "metadata": {},
   "outputs": [
    {
     "name": "stdout",
     "output_type": "stream",
     "text": [
      "55\n",
      "4400\n"
     ]
    }
   ],
   "source": [
    "rupee=int(input())\n",
    "print(rupee*80)"
   ]
  },
  {
   "cell_type": "code",
   "execution_count": null,
   "metadata": {},
   "outputs": [],
   "source": []
  }
 ],
 "metadata": {
  "kernelspec": {
   "display_name": "Python 3",
   "language": "python",
   "name": "python3"
  },
  "language_info": {
   "codemirror_mode": {
    "name": "ipython",
    "version": 3
   },
   "file_extension": ".py",
   "mimetype": "text/x-python",
   "name": "python",
   "nbconvert_exporter": "python",
   "pygments_lexer": "ipython3",
   "version": "3.8.3"
  }
 },
 "nbformat": 4,
 "nbformat_minor": 4
}
